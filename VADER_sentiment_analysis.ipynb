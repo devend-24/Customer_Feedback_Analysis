{
 "cells": [
  {
   "cell_type": "markdown",
   "id": "c69b8349-6803-490f-9e76-a0d56556a991",
   "metadata": {},
   "source": [
    "## VADER- Valence Aware Dictionary and Sentiment Reasoner"
   ]
  },
  {
   "cell_type": "code",
   "execution_count": 5,
   "id": "719f2381-eea8-42df-b4e7-7dd2341959be",
   "metadata": {},
   "outputs": [],
   "source": [
    "from vaderSentiment.vaderSentiment import SentimentIntensityAnalyzer"
   ]
  },
  {
   "cell_type": "code",
   "execution_count": 6,
   "id": "4aa4781a-9962-4b0c-8837-8eb9434fa597",
   "metadata": {},
   "outputs": [],
   "source": [
    "obj = SentimentIntensityAnalyzer()"
   ]
  },
  {
   "cell_type": "code",
   "execution_count": 7,
   "id": "71644d0b-f414-4fa0-938c-e765ff634ad7",
   "metadata": {},
   "outputs": [
    {
     "name": "stdout",
     "output_type": "stream",
     "text": [
      "{'neg': 0.0, 'neu': 0.484, 'pos': 0.516, 'compound': 0.4927}\n"
     ]
    }
   ],
   "source": [
    "sentence = \"Product is really good\"\n",
    "sentiment_dict = obj.polarity_scores(sentence)\n",
    "print(sentiment_dict)"
   ]
  },
  {
   "cell_type": "code",
   "execution_count": 8,
   "id": "c5b9ee48-dd2f-4b0f-bdfb-6508d904ef42",
   "metadata": {},
   "outputs": [
    {
     "name": "stdout",
     "output_type": "stream",
     "text": [
      "{'neg': 0.558, 'neu': 0.442, 'pos': 0.0, 'compound': -0.5849}\n"
     ]
    }
   ],
   "source": [
    "sentence = \"Product is really bad\"\n",
    "sentiment_dict = obj.polarity_scores(sentence)\n",
    "print(sentiment_dict)"
   ]
  },
  {
   "cell_type": "markdown",
   "id": "6726c004-6f9f-4321-9a63-f5773faa51f8",
   "metadata": {},
   "source": [
    "## Things which manipulate the sentiment_score\n",
    "\n",
    "## 1) Punctuations: It increases the intensity"
   ]
  },
  {
   "cell_type": "code",
   "execution_count": 9,
   "id": "91dcbf28-1380-48fa-990b-f79e4201abb9",
   "metadata": {},
   "outputs": [
    {
     "name": "stdout",
     "output_type": "stream",
     "text": [
      "{'neg': 0.0, 'neu': 0.408, 'pos': 0.592, 'compound': 0.4404}\n",
      "{'neg': 0.0, 'neu': 0.385, 'pos': 0.615, 'compound': 0.4926}\n",
      "{'neg': 0.0, 'neu': 0.365, 'pos': 0.635, 'compound': 0.5399}\n"
     ]
    }
   ],
   "source": [
    "print(obj.polarity_scores(\"Product is good\"))\n",
    "print(obj.polarity_scores(\"Product is good!\"))\n",
    "print(obj.polarity_scores(\"Product is good!!\"))"
   ]
  },
  {
   "cell_type": "markdown",
   "id": "ab9bdda8-c043-4ad5-b777-e3bd610ddb31",
   "metadata": {},
   "source": [
    "## 2) Capitalization: It increases the intensity"
   ]
  },
  {
   "cell_type": "code",
   "execution_count": 10,
   "id": "03d89aeb-2218-4bf5-a7e6-512ccf56a384",
   "metadata": {},
   "outputs": [
    {
     "name": "stdout",
     "output_type": "stream",
     "text": [
      "{'neg': 0.0, 'neu': 0.408, 'pos': 0.592, 'compound': 0.4404}\n",
      "{'neg': 0.0, 'neu': 0.355, 'pos': 0.645, 'compound': 0.5622}\n"
     ]
    }
   ],
   "source": [
    "print(obj.polarity_scores(\"Product is good\"))\n",
    "print(obj.polarity_scores(\"Product is GOOD\"))"
   ]
  },
  {
   "cell_type": "markdown",
   "id": "cfc357e7-361a-42ac-8d15-9d458c25b4d1",
   "metadata": {},
   "source": [
    "## 3) Degree Modifiers"
   ]
  },
  {
   "cell_type": "code",
   "execution_count": 12,
   "id": "3ec92543-5b0c-4a7c-81e2-85db0301c499",
   "metadata": {},
   "outputs": [
    {
     "name": "stdout",
     "output_type": "stream",
     "text": [
      "{'neg': 0.0, 'neu': 0.408, 'pos': 0.592, 'compound': 0.4404}\n",
      "{'neg': 0.0, 'neu': 0.484, 'pos': 0.516, 'compound': 0.4927}\n",
      "{'neg': 0.0, 'neu': 0.323, 'pos': 0.677, 'compound': 0.6369}\n"
     ]
    }
   ],
   "source": [
    "print(obj.polarity_scores(\"Product is good\"))\n",
    "print(obj.polarity_scores(\"Product is very good\"))\n",
    "print(obj.polarity_scores(\"Product is best\"))\n"
   ]
  },
  {
   "cell_type": "markdown",
   "id": "faa90c5c-1953-4a06-bca0-49a465263af0",
   "metadata": {},
   "source": [
    "## 4) Conjunctions"
   ]
  },
  {
   "cell_type": "code",
   "execution_count": 13,
   "id": "6f78bd72-3b56-4033-8647-6301f458b35f",
   "metadata": {},
   "outputs": [
    {
     "name": "stdout",
     "output_type": "stream",
     "text": [
      "{'neg': 0.0, 'neu': 0.408, 'pos': 0.592, 'compound': 0.4404}\n",
      "{'neg': 0.317, 'neu': 0.534, 'pos': 0.149, 'compound': -0.4939}\n"
     ]
    }
   ],
   "source": [
    "print(obj.polarity_scores(\"Product is good\"))\n",
    "print(obj.polarity_scores(\"Product is good, but it also has some faults\"))\n"
   ]
  },
  {
   "cell_type": "markdown",
   "id": "16ae88b4-21d0-43ac-b52b-cb8f0c825643",
   "metadata": {},
   "source": [
    "## Vader handels slangs and emoticons"
   ]
  },
  {
   "cell_type": "code",
   "execution_count": 14,
   "id": "3d90f0a0-a563-4eb1-80ae-04a90e4ba0d3",
   "metadata": {},
   "outputs": [
    {
     "name": "stdout",
     "output_type": "stream",
     "text": [
      "{'neg': 0.0, 'neu': 0.577, 'pos': 0.423, 'compound': 0.296}\n",
      "{'neg': 0.455, 'neu': 0.545, 'pos': 0.0, 'compound': -0.3612}\n"
     ]
    }
   ],
   "source": [
    "print(obj.polarity_scores(\"The food is ok\"))\n",
    "print(obj.polarity_scores(\"The food is sucks\"))"
   ]
  },
  {
   "cell_type": "code",
   "execution_count": 17,
   "id": "87ad71c5-f984-4968-958c-8d5353b6cb08",
   "metadata": {},
   "outputs": [
    {
     "name": "stdout",
     "output_type": "stream",
     "text": [
      "{'neg': 0.0, 'neu': 0.0, 'pos': 1.0, 'compound': 0.4588}\n",
      "{'neg': 1.0, 'neu': 0.0, 'pos': 0.0, 'compound': -0.1027}\n"
     ]
    }
   ],
   "source": [
    "print(obj.polarity_scores(\":)\"))\n",
    "print(obj.polarity_scores(\":|\"))"
   ]
  },
  {
   "cell_type": "code",
   "execution_count": null,
   "id": "c41e1427-a3df-4169-917a-bc8fab01c528",
   "metadata": {},
   "outputs": [],
   "source": []
  },
  {
   "cell_type": "code",
   "execution_count": null,
   "id": "409ad050-61c8-41a9-a284-9713490e6654",
   "metadata": {},
   "outputs": [],
   "source": []
  }
 ],
 "metadata": {
  "kernelspec": {
   "display_name": "Python 3 (ipykernel)",
   "language": "python",
   "name": "python3"
  },
  "language_info": {
   "codemirror_mode": {
    "name": "ipython",
    "version": 3
   },
   "file_extension": ".py",
   "mimetype": "text/x-python",
   "name": "python",
   "nbconvert_exporter": "python",
   "pygments_lexer": "ipython3",
   "version": "3.12.4"
  }
 },
 "nbformat": 4,
 "nbformat_minor": 5
}
