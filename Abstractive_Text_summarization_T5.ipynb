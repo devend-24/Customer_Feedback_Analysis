{
 "cells": [
  {
   "cell_type": "markdown",
   "id": "86b77a1f-41f8-42fd-8a6a-18ce7eb230a9",
   "metadata": {},
   "source": [
    "## Import Modules"
   ]
  },
  {
   "cell_type": "code",
   "execution_count": 50,
   "id": "fe1972c0-a736-4f44-a869-f50085fd03eb",
   "metadata": {},
   "outputs": [],
   "source": [
    "import torch\n",
    "from transformers import T5Tokenizer, T5ForConditionalGeneration, T5Config"
   ]
  },
  {
   "cell_type": "markdown",
   "id": "444dfcde-de48-4fb0-a0bc-2607aa38fcae",
   "metadata": {},
   "source": [
    "## Initialize Model T5"
   ]
  },
  {
   "cell_type": "code",
   "execution_count": 2,
   "id": "a7768b67-9e94-4e9d-82bf-7071170aa504",
   "metadata": {},
   "outputs": [
    {
     "name": "stderr",
     "output_type": "stream",
     "text": [
      "You are using the default legacy behaviour of the <class 'transformers.models.t5.tokenization_t5.T5Tokenizer'>. This is expected, and simply means that the `legacy` (previous) behavior will be used so nothing changes for you. If you want to use the new behaviour, set `legacy=False`. This should only be set if you understand what it means, and thoroughly read the reason why this was added as explained in https://github.com/huggingface/transformers/pull/24565\n"
     ]
    }
   ],
   "source": [
    "# initialize the pretrained model\n",
    "model = T5ForConditionalGeneration.from_pretrained('t5-small')\n",
    "tokenizer = T5Tokenizer.from_pretrained('t5-small')\n",
    "device = torch.device('cpu')"
   ]
  },
  {
   "cell_type": "markdown",
   "id": "0779e668-b205-45a2-bae1-a574d26a7c62",
   "metadata": {},
   "source": [
    "## Input "
   ]
  },
  {
   "cell_type": "code",
   "execution_count": 11,
   "id": "b0fdf842-ee36-4baa-b0be-c3d36079fc94",
   "metadata": {},
   "outputs": [],
   "source": [
    "# input text\n",
    "text = \"\"\"\n",
    "\"This product exudes class with its sleek design and exceptional build quality. Every detail has been meticulously crafted to ensure durability and style.\"\n",
    "\n",
    "\"I’ve never had such a seamless experience! The performance is buttery smooth, and it handles everything effortlessly. A true game-changer!\"\n",
    "\n",
    "\"The materials used are clearly top-tier. You can feel the durability the moment you hold it. Definitely a purchase worth every penny!\"\n",
    "\n",
    "\n",
    "\"I had high hopes, but this surpassed all of them! The functionality is flawless, and the ease of use makes it stand out from the competition.\"\n",
    "\n",
    "\n",
    "\"Using this every day has been a delight. It’s reliable, efficient, and designed to make life easier. I can't imagine going back to alternatives.\"\n",
    "\n",
    "\n",
    "\"Aesthetically, it’s a masterpiece! The modern look, attention to detail, and high-end materials make it a must-have.\"\n",
    "\n",
    "\n",
    "\"For the price, you’re getting an outstanding product. It delivers premium features at a fraction of the cost of competitors.\"\n",
    "\n",
    "\n",
    "\"After months of use, it still works like it did on day one. Sturdy construction and thoughtful engineering make it a solid investment.\"\n",
    "\n",
    "\n",
    "\"Even as a first-time user, I found it incredibly easy to navigate. The intuitive design ensures a hassle-free experience for everyone.\"\n",
    "\n",
    "\"Every feature seems to have been designed with the user in mind. From the smallest components to the overall experience, it’s clear a lot of thought went into this.\"\n",
    "\n",
    "\n",
    "\"\"\""
   ]
  },
  {
   "cell_type": "code",
   "execution_count": 12,
   "id": "558f0845-4902-489d-8a7e-150920ca4862",
   "metadata": {},
   "outputs": [],
   "source": [
    "## preprocess the  input text\n",
    "preprocessed_text = text.strip().replace('\\n','')\n",
    "t5_input_text = 'summarize: '+preprocessed_text"
   ]
  },
  {
   "cell_type": "code",
   "execution_count": 13,
   "id": "54b9cf5d-cda9-434d-9152-b18fc59a1685",
   "metadata": {},
   "outputs": [
    {
     "data": {
      "text/plain": [
       "217"
      ]
     },
     "execution_count": 13,
     "metadata": {},
     "output_type": "execute_result"
    }
   ],
   "source": [
    "len(t5_input_text.split())"
   ]
  },
  {
   "cell_type": "code",
   "execution_count": 14,
   "id": "2a806e29-79d2-445f-a3b6-a6874cccc67b",
   "metadata": {},
   "outputs": [],
   "source": [
    "tokenized_text = tokenizer.encode(t5_input_text, return_tensors='pt').to(device)"
   ]
  },
  {
   "cell_type": "markdown",
   "id": "60981baa-a699-4261-8290-b48411fbd3c3",
   "metadata": {},
   "source": [
    "## Summarize"
   ]
  },
  {
   "cell_type": "code",
   "execution_count": 29,
   "id": "c0cfa7a0-35f3-4c8c-84e0-98809653e804",
   "metadata": {},
   "outputs": [],
   "source": [
    "# summary_ids = model.generate(tokenized_text, min_length=100, max_length=200)\n",
    "# # summary = tokenizer.decode(summary_ids[0], skip_special_tokens=True)\n",
    "# summary = tokenizer.decode(\n",
    "#     model.generate(\n",
    "#         summary_ids[0], \n",
    "#         max_length=50, \n",
    "#         num_beams=5, \n",
    "#         repetition_penalty=1.2\n",
    "#     )[0], \n",
    "#     skip_special_tokens=True\n",
    "# )\n",
    "\n",
    "summary_ids = model.generate(tokenized_text, min_length=100, max_length=200, num_beams=5, repetition_penalty=1.2)\n",
    "summary = tokenizer.decode(summary_ids[0], skip_special_tokens=True)\n",
    "\n"
   ]
  },
  {
   "cell_type": "code",
   "execution_count": 30,
   "id": "025924fe-ff70-4961-893c-5781e98a3a7e",
   "metadata": {},
   "outputs": [
    {
     "name": "stdout",
     "output_type": "stream",
     "text": [
      "\"this product exudes class\" with its sleek design and exceptional build quality. the performance is buttery smooth, and it handles everything effortlessly. the materials used are clearly top-tier, and the ease of use makes it stand out from the competition. \"it delivers premium features at a fraction of the cost of competitors,\" says a first-time user. \"I found it incredibly easy to navigate. The intuitive design ensures a hassle-free experience for everyone.\"\n"
     ]
    }
   ],
   "source": [
    "print(summary)"
   ]
  },
  {
   "cell_type": "code",
   "execution_count": 44,
   "id": "c90d6a2a-ea4f-402e-aafa-81d7442be4ed",
   "metadata": {},
   "outputs": [],
   "source": [
    "## negative text\n",
    "textn = \"\"\"\n",
    "\n",
    " The product looks good at first, but the performance is underwhelming. It lags frequently and doesn’t live up to expectations.  \n",
    "\n",
    " The build quality feels cheap, and it stopped working properly within a few days. Definitely not worth the price.  \n",
    "\n",
    " The product description made it seem high-end, but in reality, it's poorly made and lacks the promised features. Feels like a scam.  \n",
    "\n",
    " I had high hopes, but this is a total letdown. It’s unreliable and frustrating to use. Avoid at all costs.  \n",
    "\n",
    " The product itself has flaws, but the real issue is the company’s lack of support. They refuse to help or offer a refund.  \n",
    "\n",
    " After just a few uses, it started falling apart. Clearly, they used subpar materials to cut costs.  \n",
    "\n",
    " It constantly freezes and doesn’t function as intended. I tried troubleshooting, but nothing seems to work.  \n",
    "\n",
    " From weak battery life to an unresponsive interface, this product is filled with issues. Wouldn’t recommend.  \n",
    "\n",
    " It’s overpriced for what you get. The features are basic, and cheaper alternatives work much better.  \n",
    "\n",
    "Nothing about this product meets expectations. It’s slow, unreliable, and overall a waste of money.  \n",
    "\n",
    "\"\"\""
   ]
  },
  {
   "cell_type": "code",
   "execution_count": 45,
   "id": "254f8512-41a1-478d-863c-33c631ce5a2b",
   "metadata": {},
   "outputs": [],
   "source": [
    "preprocessed_textn = textn.strip().replace('\\n','')\n",
    "t5_input_textn = 'summarize: '+preprocessed_textn\n"
   ]
  },
  {
   "cell_type": "code",
   "execution_count": 46,
   "id": "649e888d-9af3-41f3-80c5-80d48deade43",
   "metadata": {},
   "outputs": [
    {
     "data": {
      "text/plain": [
       "185"
      ]
     },
     "execution_count": 46,
     "metadata": {},
     "output_type": "execute_result"
    }
   ],
   "source": [
    "len(t5_input_textn.split())"
   ]
  },
  {
   "cell_type": "code",
   "execution_count": 47,
   "id": "fe5a82a8-1bf3-4da9-917f-aa0b19d6aa94",
   "metadata": {},
   "outputs": [],
   "source": [
    "tokenized_textn = tokenizer.encode(t5_input_textn, return_tensors='pt').to(device)"
   ]
  },
  {
   "cell_type": "code",
   "execution_count": 48,
   "id": "21ace20c-2e30-47a2-a56d-77c08a95fb7b",
   "metadata": {},
   "outputs": [],
   "source": [
    "summary_idsn = model.generate(tokenized_textn, min_length=100, max_length=200, num_beams=5, repetition_penalty=1.2)\n",
    "summaryn = tokenizer.decode(summary_idsn[0], skip_special_tokens=True)"
   ]
  },
  {
   "cell_type": "code",
   "execution_count": 49,
   "id": "20e2d6a2-3fbb-4722-9522-0957adf2a95d",
   "metadata": {},
   "outputs": [
    {
     "name": "stdout",
     "output_type": "stream",
     "text": [
      "the product looks good at first, but the performance is underwhelming. the build quality feels cheap, and it stopped working properly within a few days. the product itself has flaws, but the real issue is the company’s lack of support. it constantly freezes and doesn’t function as intended. it’s overpriced for what you get. The features are basic, and cheaper alternatives work much better. It’s slow, unreliable, and overall a waste of money.\n"
     ]
    }
   ],
   "source": [
    "print(summaryn)"
   ]
  },
  {
   "cell_type": "code",
   "execution_count": null,
   "id": "72bab59b-ad1a-48cd-a24e-8f7f7b1b2944",
   "metadata": {},
   "outputs": [],
   "source": []
  }
 ],
 "metadata": {
  "kernelspec": {
   "display_name": "Python 3 (ipykernel)",
   "language": "python",
   "name": "python3"
  },
  "language_info": {
   "codemirror_mode": {
    "name": "ipython",
    "version": 3
   },
   "file_extension": ".py",
   "mimetype": "text/x-python",
   "name": "python",
   "nbconvert_exporter": "python",
   "pygments_lexer": "ipython3",
   "version": "3.12.4"
  }
 },
 "nbformat": 4,
 "nbformat_minor": 5
}
